{
  "nbformat": 4,
  "nbformat_minor": 0,
  "metadata": {
    "colab": {
      "name": "AIML428 Text Classification - Customer complaints dataset.ipynb",
      "provenance": [],
      "collapsed_sections": [],
      "authorship_tag": "ABX9TyMpRQf7Yk21nISgffJNWAlZ",
      "include_colab_link": true
    },
    "kernelspec": {
      "name": "python3",
      "display_name": "Python 3"
    },
    "language_info": {
      "name": "python"
    }
  },
  "cells": [
    {
      "cell_type": "markdown",
      "metadata": {
        "id": "view-in-github",
        "colab_type": "text"
      },
      "source": [
        "<a href=\"https://colab.research.google.com/github/walwi878/AIML428-Text-Classification/blob/main/AIML428_Text_Classification_Customer_complaints_dataset.ipynb\" target=\"_parent\"><img src=\"https://colab.research.google.com/assets/colab-badge.svg\" alt=\"Open In Colab\"/></a>"
      ]
    },
    {
      "cell_type": "code",
      "metadata": {
        "colab": {
          "base_uri": "https://localhost:8080/"
        },
        "id": "MS1BHGXPFxz0",
        "outputId": "ef66257b-a87e-4a78-f764-6971a689a800"
      },
      "source": [
        "#AIML428 Project - Text classification\n",
        "#William Wallace\n",
        "#17/04/21\n",
        "#This project was very much helped using the following sources:\n",
        "#https://medium.com/swlh/multi-class-text-classification-using-scikit-learn-a9bacb751048\n",
        "#https://machinelearningmastery.com/sequence-classification-lstm-recurrent-neural-networks-python-keras/\n",
        "\n",
        "#Link to this code on the smaller stack-overflow-data.csv dataset:\n",
        "#https://colab.research.google.com/drive/1nx9zAwvIKjEntLCSvdmkdUiJ4IbcdKFO#scrollTo=MS1BHGXPFxz0\n",
        "\n",
        "import logging\n",
        "import pandas as pd\n",
        "import numpy as np\n",
        "from numpy import random\n",
        "import gensim\n",
        "import nltk\n",
        "from sklearn.model_selection import train_test_split\n",
        "from sklearn.feature_extraction.text import CountVectorizer, TfidfVectorizer\n",
        "from sklearn.metrics import accuracy_score, confusion_matrix\n",
        "import matplotlib.pyplot as plt\n",
        "from nltk.corpus import stopwords\n",
        "import nltk\n",
        "nltk.download('stopwords')\n",
        "import re\n",
        "from bs4 import BeautifulSoup\n",
        "from sklearn.metrics import classification_report\n",
        "\n",
        "%matplotlib inline"
      ],
      "execution_count": 1,
      "outputs": [
        {
          "output_type": "stream",
          "text": [
            "[nltk_data] Downloading package stopwords to /root/nltk_data...\n",
            "[nltk_data]   Package stopwords is already up-to-date!\n"
          ],
          "name": "stdout"
        }
      ]
    },
    {
      "cell_type": "code",
      "metadata": {
        "colab": {
          "base_uri": "https://localhost:8080/",
          "height": 383
        },
        "id": "ThpUXzSbFx2q",
        "outputId": "7c009f26-5b47-4b80-a889-8ffb6ecdcdfe"
      },
      "source": [
        "#Checking out the data\n",
        "\n",
        "from google.colab import drive\n",
        "drive.mount('/content/drive')\n",
        "df = pd.read_csv('/content/drive/MyDrive/complaints_cleaned_v10.csv')\n",
        "df = df[pd.notnull(df['tags'])]\n",
        "df.head(10)"
      ],
      "execution_count": 2,
      "outputs": [
        {
          "output_type": "stream",
          "text": [
            "Drive already mounted at /content/drive; to attempt to forcibly remount, call drive.mount(\"/content/drive\", force_remount=True).\n"
          ],
          "name": "stdout"
        },
        {
          "output_type": "execute_result",
          "data": {
            "text/html": [
              "<div>\n",
              "<style scoped>\n",
              "    .dataframe tbody tr th:only-of-type {\n",
              "        vertical-align: middle;\n",
              "    }\n",
              "\n",
              "    .dataframe tbody tr th {\n",
              "        vertical-align: top;\n",
              "    }\n",
              "\n",
              "    .dataframe thead th {\n",
              "        text-align: right;\n",
              "    }\n",
              "</style>\n",
              "<table border=\"1\" class=\"dataframe\">\n",
              "  <thead>\n",
              "    <tr style=\"text-align: right;\">\n",
              "      <th></th>\n",
              "      <th>posts</th>\n",
              "      <th>tags</th>\n",
              "    </tr>\n",
              "  </thead>\n",
              "  <tbody>\n",
              "    <tr>\n",
              "      <th>0</th>\n",
              "      <td>-- -- -- -- -- -- -- -- -- -- -- -- -- -- -- -...</td>\n",
              "      <td>Debt collection</td>\n",
              "    </tr>\n",
              "    <tr>\n",
              "      <th>1</th>\n",
              "      <td>- Agent of company threatened garnishment prio...</td>\n",
              "      <td>Debt collection</td>\n",
              "    </tr>\n",
              "    <tr>\n",
              "      <th>2</th>\n",
              "      <td>- American express card went to collection in ...</td>\n",
              "      <td>Debt collection</td>\n",
              "    </tr>\n",
              "    <tr>\n",
              "      <th>3</th>\n",
              "      <td>- Collection agency I.C System, Inc XXXX XXXX ...</td>\n",
              "      <td>Debt collection</td>\n",
              "    </tr>\n",
              "    <tr>\n",
              "      <th>4</th>\n",
              "      <td>- Company name : FIRSTSOURCE ADVANTAGE , LLC -...</td>\n",
              "      <td>Debt collection</td>\n",
              "    </tr>\n",
              "    <tr>\n",
              "      <th>5</th>\n",
              "      <td>-- Debt collector XXXX collections, tax id XXX...</td>\n",
              "      <td>Debt collection</td>\n",
              "    </tr>\n",
              "    <tr>\n",
              "      <th>6</th>\n",
              "      <td>- I found an entry from ONLINE INFORMATION SER...</td>\n",
              "      <td>Debt collection</td>\n",
              "    </tr>\n",
              "    <tr>\n",
              "      <th>7</th>\n",
              "      <td>- I have a collection account for $5300.00} wi...</td>\n",
              "      <td>Debt collection</td>\n",
              "    </tr>\n",
              "    <tr>\n",
              "      <th>8</th>\n",
              "      <td>- I purchased 1 laptop in XX/XX/XXXX - XX/XX/X...</td>\n",
              "      <td>Debt collection</td>\n",
              "    </tr>\n",
              "    <tr>\n",
              "      <th>9</th>\n",
              "      <td>- In XX/XX/2019 I spent over an hour on the ph...</td>\n",
              "      <td>Debt collection</td>\n",
              "    </tr>\n",
              "  </tbody>\n",
              "</table>\n",
              "</div>"
            ],
            "text/plain": [
              "                                               posts             tags\n",
              "0  -- -- -- -- -- -- -- -- -- -- -- -- -- -- -- -...  Debt collection\n",
              "1  - Agent of company threatened garnishment prio...  Debt collection\n",
              "2  - American express card went to collection in ...  Debt collection\n",
              "3  - Collection agency I.C System, Inc XXXX XXXX ...  Debt collection\n",
              "4  - Company name : FIRSTSOURCE ADVANTAGE , LLC -...  Debt collection\n",
              "5  -- Debt collector XXXX collections, tax id XXX...  Debt collection\n",
              "6  - I found an entry from ONLINE INFORMATION SER...  Debt collection\n",
              "7  - I have a collection account for $5300.00} wi...  Debt collection\n",
              "8  - I purchased 1 laptop in XX/XX/XXXX - XX/XX/X...  Debt collection\n",
              "9  - In XX/XX/2019 I spent over an hour on the ph...  Debt collection"
            ]
          },
          "metadata": {
            "tags": []
          },
          "execution_count": 2
        }
      ]
    },
    {
      "cell_type": "code",
      "metadata": {
        "id": "ARoQG3JiFx5k",
        "colab": {
          "base_uri": "https://localhost:8080/"
        },
        "outputId": "763f33b7-36e9-44bd-c349-3fe8c26a4a12"
      },
      "source": [
        "df['posts'].apply(lambda x: len(x.split(' '))).sum()"
      ],
      "execution_count": 3,
      "outputs": [
        {
          "output_type": "execute_result",
          "data": {
            "text/plain": [
              "82977936"
            ]
          },
          "metadata": {
            "tags": []
          },
          "execution_count": 3
        }
      ]
    },
    {
      "cell_type": "code",
      "metadata": {
        "id": "Ux1Vuj43F6Fj",
        "colab": {
          "base_uri": "https://localhost:8080/",
          "height": 336
        },
        "outputId": "40fbb3a0-9f24-4c2b-aad3-e7aae295c635"
      },
      "source": [
        "#View the distribution\n",
        "#source: https://stackoverflow.com/questions/65594438/how-to-plot-histogram-against-class-label-for-tf-dataset\n",
        "my_tags = ['Debt collection','Credit card','Money transfers','Mortgage','Credit reporting','Bank account','Vehicle loan','Student loan','Consumer loan','Bank service','Payday loan']\n",
        "plt.figure(figsize=(10,4))\n",
        "df.tags.value_counts().plot(kind='bar');"
      ],
      "execution_count": 4,
      "outputs": [
        {
          "output_type": "display_data",
          "data": {
            "image/png": "[encoded data removed]",
            "text/plain": [
              "<Figure size 720x288 with 1 Axes>"
            ]
          },
          "metadata": {
            "tags": [],
            "needs_background": "light"
          }
        }
      ]
    },
    {
      "cell_type": "code",
      "metadata": {
        "id": "OiSnJWPcF6IL"
      },
      "source": [
        "def print_plot(index):\n",
        "    example = df[df.index == index][['posts', 'tags']].values[0]\n",
        "    if len(example) > 0:\n",
        "        print(example[0])\n",
        "        print('Tag:', example[1])"
      ],
      "execution_count": 5,
      "outputs": []
    },
    {
      "cell_type": "code",
      "metadata": {
        "id": "YnfeMbEJF6Kd",
        "colab": {
          "base_uri": "https://localhost:8080/"
        },
        "outputId": "d23c7520-94b0-48c0-fd8e-c0d49c11e39d"
      },
      "source": [
        "\n",
        "print_plot(10)"
      ],
      "execution_count": 6,
      "outputs": [
        {
          "output_type": "stream",
          "text": [
            "- Letter dated XX/XX/2019 requesting Validation of Debt sent to LVNV - Response letter dated XX/XX/2019 with an account summary as Validation of Debt. \n",
            "- Response letter dated XX/XX/2019 with an account as Validation of Debt - Another letter dated XX/XX/2019 requesting Validation of Debt not an account summary. \n",
            "- NO RESPONSE FROM LVNV\n",
            "Tag: Debt collection\n"
          ],
          "name": "stdout"
        }
      ]
    },
    {
      "cell_type": "code",
      "metadata": {
        "id": "AMkLLL7oF6My"
      },
      "source": [
        "#Preprocessing the text - i.e. HTML decoding, remove stop words, change text to lower case, remove punctuation, remove bad characters\n",
        "REPLACE_BY_SPACE_RE = re.compile('[/(){}\\[\\]\\|@,;]')\n",
        "BAD_SYMBOLS_RE = re.compile('[^0-9a-z #+_]')\n",
        "STOPWORDS = set(stopwords.words('english'))\n",
        "\n",
        "def clean_text(text):\n",
        "    \"\"\"\n",
        "        text: a string\n",
        "        \n",
        "        return: modified initial string\n",
        "    \"\"\"\n",
        "    text = BeautifulSoup(text, \"lxml\").text                                     # HTML decoding\n",
        "    text = text.lower()                                                         # lowercase text\n",
        "    text = REPLACE_BY_SPACE_RE.sub(' ', text)                                   # replace REPLACE_BY_SPACE_RE symbols by space in text\n",
        "    text = BAD_SYMBOLS_RE.sub('', text)                                         # delete symbols which are in BAD_SYMBOLS_RE from text\n",
        "    text = ' '.join(word for word in text.split() if word not in STOPWORDS)     # delete stopwors from text\n",
        "    return text"
      ],
      "execution_count": 7,
      "outputs": []
    },
    {
      "cell_type": "code",
      "metadata": {
        "id": "iiMzQP3oF6PC"
      },
      "source": [
        "df['posts'] = df['posts'].apply(clean_text)\n"
      ],
      "execution_count": 8,
      "outputs": []
    },
    {
      "cell_type": "code",
      "metadata": {
        "id": "as5PRSPmF6Rj",
        "colab": {
          "base_uri": "https://localhost:8080/"
        },
        "outputId": "20d84a4a-c07e-48d6-f022-e4ae0ee6519f"
      },
      "source": [
        "#Check to see if data is clean\n",
        "print_plot(10)\n"
      ],
      "execution_count": 9,
      "outputs": [
        {
          "output_type": "stream",
          "text": [
            "letter dated xx xx 2019 requesting validation debt sent lvnv response letter dated xx xx 2019 account summary validation debt response letter dated xx xx 2019 account validation debt another letter dated xx xx 2019 requesting validation debt account summary response lvnv\n",
            "Tag: Debt collection\n"
          ],
          "name": "stdout"
        }
      ]
    },
    {
      "cell_type": "code",
      "metadata": {
        "id": "uvBBwf3YF6Ts",
        "colab": {
          "base_uri": "https://localhost:8080/"
        },
        "outputId": "eb5d65ab-5844-47dd-d969-02d3328a0bc9"
      },
      "source": [
        "#Check how many words\n",
        "df['posts'].apply(lambda x: len(x.split(' '))).sum()\n"
      ],
      "execution_count": 10,
      "outputs": [
        {
          "output_type": "execute_result",
          "data": {
            "text/plain": [
              "43442997"
            ]
          },
          "metadata": {
            "tags": []
          },
          "execution_count": 10
        }
      ]
    },
    {
      "cell_type": "code",
      "metadata": {
        "id": "DbgRjIaNF6Vu"
      },
      "source": [
        "X = df.posts\n",
        "y = df.tags\n",
        "X_train, X_test, y_train, y_test = train_test_split(X, y, test_size=0.3, random_state = 42)"
      ],
      "execution_count": 11,
      "outputs": []
    },
    {
      "cell_type": "code",
      "metadata": {
        "id": "j0Tkb3CpUbFz",
        "colab": {
          "base_uri": "https://localhost:8080/"
        },
        "outputId": "b58345e4-63cc-48b0-ccb5-17555864b9da"
      },
      "source": [
        "# Convert text documents to a matrix of token counts (CountVectorizer), \n",
        "# transforms a count matrix to a normalized tf-idf representation (tf-idf transformer),\n",
        "# train several classifiers usign the sci-kit library\n",
        "\n",
        "#Naive Bayes classifier¶\n",
        "\n",
        "from sklearn.naive_bayes import MultinomialNB\n",
        "from sklearn.pipeline import Pipeline\n",
        "from sklearn.feature_extraction.text import TfidfTransformer\n",
        "\n",
        "nb = Pipeline([('vect', CountVectorizer()),\n",
        "               ('tfidf', TfidfTransformer()),\n",
        "               ('clf', MultinomialNB()),\n",
        "              ])\n",
        "nb.fit(X_train, y_train)"
      ],
      "execution_count": 25,
      "outputs": [
        {
          "output_type": "execute_result",
          "data": {
            "text/plain": [
              "Pipeline(memory=None,\n",
              "         steps=[('vect',\n",
              "                 CountVectorizer(analyzer='word', binary=False,\n",
              "                                 decode_error='strict',\n",
              "                                 dtype=<class 'numpy.int64'>, encoding='utf-8',\n",
              "                                 input='content', lowercase=True, max_df=1.0,\n",
              "                                 max_features=None, min_df=1,\n",
              "                                 ngram_range=(1, 1), preprocessor=None,\n",
              "                                 stop_words=None, strip_accents=None,\n",
              "                                 token_pattern='(?u)\\\\b\\\\w\\\\w+\\\\b',\n",
              "                                 tokenizer=None, vocabulary=None)),\n",
              "                ('tfidf',\n",
              "                 TfidfTransformer(norm='l2', smooth_idf=True,\n",
              "                                  sublinear_tf=False, use_idf=True)),\n",
              "                ('clf',\n",
              "                 MultinomialNB(alpha=1.0, class_prior=None, fit_prior=True))],\n",
              "         verbose=False)"
            ]
          },
          "metadata": {
            "tags": []
          },
          "execution_count": 25
        }
      ]
    },
    {
      "cell_type": "code",
      "metadata": {
        "id": "2-m-DdRnFx8T",
        "colab": {
          "base_uri": "https://localhost:8080/"
        },
        "outputId": "2f31f1f5-92df-4ad7-b786-d9945692bd6f"
      },
      "source": [
        "#Get accuracy for each class\n",
        "#source: https://scikit-learn.org/stable/modules/generated/sklearn.metrics.accuracy_score.html\n",
        "%%time\n",
        "from sklearn.metrics import classification_report\n",
        "y_pred = nb.predict(X_test)\n",
        "\n",
        "print('accuracy %s' % accuracy_score(y_pred, y_test))\n",
        "print(classification_report(y_test, y_pred,target_names=my_tags))"
      ],
      "execution_count": 26,
      "outputs": [
        {
          "output_type": "stream",
          "text": [
            "accuracy 0.7027137555073727\n"
          ],
          "name": "stdout"
        },
        {
          "output_type": "stream",
          "text": [
            "/usr/local/lib/python3.7/dist-packages/sklearn/metrics/_classification.py:1272: UndefinedMetricWarning: Precision and F-score are ill-defined and being set to 0.0 in labels with no predicted samples. Use `zero_division` parameter to control this behavior.\n",
            "  _warn_prf(average, modifier, msg_start, len(result))\n"
          ],
          "name": "stderr"
        },
        {
          "output_type": "stream",
          "text": [
            "                  precision    recall  f1-score   support\n",
            "\n",
            " Debt collection       0.78      0.28      0.41      7166\n",
            "     Credit card       0.00      0.00      0.00       286\n",
            " Money transfers       0.00      0.00      0.00       282\n",
            "        Mortgage       0.63      0.52      0.57     12727\n",
            "Credit reporting       0.67      0.98      0.79     63439\n",
            "    Bank account       0.82      0.53      0.64     22635\n",
            "    Vehicle loan       0.97      0.08      0.15      3265\n",
            "    Student loan       0.90      0.73      0.80     10864\n",
            "   Consumer loan       0.00      0.00      0.00      2164\n",
            "    Bank service       0.97      0.12      0.21      3818\n",
            "     Payday loan       0.75      0.00      0.00      2953\n",
            "\n",
            "        accuracy                           0.70    129599\n",
            "       macro avg       0.59      0.29      0.33    129599\n",
            "    weighted avg       0.72      0.70      0.66    129599\n",
            "\n",
            "CPU times: user 15.2 s, sys: 62.5 ms, total: 15.3 s\n",
            "Wall time: 15.3 s\n"
          ],
          "name": "stdout"
        }
      ]
    },
    {
      "cell_type": "code",
      "metadata": {
        "id": "KgFZXwR9Fx-y",
        "colab": {
          "base_uri": "https://localhost:8080/"
        },
        "outputId": "a86c9a6c-c730-4846-8d1a-46e57e6946f3"
      },
      "source": [
        "#ADDITIONAL FOURTH STEP FOR CURIOUSITY - \n",
        "#HOW DOES THIS DATASET PERFORM USING THE METHODS DEVELOPED FROM STEP 3 USED ON STACK-OVERFLOW_DATASET.CSV? \n",
        "\n",
        "#Linear support vector machine¶\n",
        "#source: https://scikit-learn.org/stable/modules/generated/sklearn.linear_model.SGDClassifier.html\n",
        "\n",
        "from sklearn.linear_model import SGDClassifier\n",
        "\n",
        "sgd = Pipeline([('vect', CountVectorizer()),\n",
        "                ('tfidf', TfidfTransformer()),\n",
        "                ('clf', SGDClassifier(loss='hinge', penalty='l2',alpha=1e-3, random_state=42, max_iter=5, tol=None)),\n",
        "               ])\n",
        "sgd.fit(X_train, y_train)"
      ],
      "execution_count": 27,
      "outputs": [
        {
          "output_type": "execute_result",
          "data": {
            "text/plain": [
              "Pipeline(memory=None,\n",
              "         steps=[('vect',\n",
              "                 CountVectorizer(analyzer='word', binary=False,\n",
              "                                 decode_error='strict',\n",
              "                                 dtype=<class 'numpy.int64'>, encoding='utf-8',\n",
              "                                 input='content', lowercase=True, max_df=1.0,\n",
              "                                 max_features=None, min_df=1,\n",
              "                                 ngram_range=(1, 1), preprocessor=None,\n",
              "                                 stop_words=None, strip_accents=None,\n",
              "                                 token_pattern='(?u)\\\\b\\\\w\\\\w+\\\\b',\n",
              "                                 tokenizer=None, vocabulary=Non...\n",
              "                ('clf',\n",
              "                 SGDClassifier(alpha=0.001, average=False, class_weight=None,\n",
              "                               early_stopping=False, epsilon=0.1, eta0=0.0,\n",
              "                               fit_intercept=True, l1_ratio=0.15,\n",
              "                               learning_rate='optimal', loss='hinge',\n",
              "                               max_iter=5, n_iter_no_change=5, n_jobs=None,\n",
              "                               penalty='l2', power_t=0.5, random_state=42,\n",
              "                               shuffle=True, tol=None, validation_fraction=0.1,\n",
              "                               verbose=0, warm_start=False))],\n",
              "         verbose=False)"
            ]
          },
          "metadata": {
            "tags": []
          },
          "execution_count": 27
        }
      ]
    },
    {
      "cell_type": "code",
      "metadata": {
        "id": "2qW29qNMUi3R",
        "colab": {
          "base_uri": "https://localhost:8080/"
        },
        "outputId": "58a3a950-c234-402b-ec40-12721001c2e3"
      },
      "source": [
        "#https://scikit-learn.org/stable/modules/generated/sklearn.metrics.accuracy_score.html\n",
        "\n",
        "%%time\n",
        "y_pred = sgd.predict(X_test)\n",
        "\n",
        "print('accuracy %s' % accuracy_score(y_pred, y_test))\n",
        "print(classification_report(y_test, y_pred,target_names=my_tags))"
      ],
      "execution_count": 28,
      "outputs": [
        {
          "output_type": "stream",
          "text": [
            "accuracy 0.7828455466477365\n"
          ],
          "name": "stdout"
        },
        {
          "output_type": "stream",
          "text": [
            "/usr/local/lib/python3.7/dist-packages/sklearn/metrics/_classification.py:1272: UndefinedMetricWarning: Precision and F-score are ill-defined and being set to 0.0 in labels with no predicted samples. Use `zero_division` parameter to control this behavior.\n",
            "  _warn_prf(average, modifier, msg_start, len(result))\n"
          ],
          "name": "stderr"
        },
        {
          "output_type": "stream",
          "text": [
            "                  precision    recall  f1-score   support\n",
            "\n",
            " Debt collection       0.75      0.63      0.68      7166\n",
            "     Credit card       0.00      0.00      0.00       286\n",
            " Money transfers       0.00      0.00      0.00       282\n",
            "        Mortgage       0.76      0.68      0.72     12727\n",
            "Credit reporting       0.78      0.94      0.86     63439\n",
            "    Bank account       0.77      0.66      0.71     22635\n",
            "    Vehicle loan       0.85      0.47      0.60      3265\n",
            "    Student loan       0.81      0.89      0.85     10864\n",
            "   Consumer loan       0.73      0.02      0.03      2164\n",
            "    Bank service       0.90      0.57      0.70      3818\n",
            "     Payday loan       0.80      0.11      0.19      2953\n",
            "\n",
            "        accuracy                           0.78    129599\n",
            "       macro avg       0.65      0.45      0.49    129599\n",
            "    weighted avg       0.78      0.78      0.76    129599\n",
            "\n",
            "CPU times: user 15.1 s, sys: 45.6 ms, total: 15.1 s\n",
            "Wall time: 15.2 s\n"
          ],
          "name": "stdout"
        }
      ]
    },
    {
      "cell_type": "code",
      "metadata": {
        "id": "q0a__Bq6Ui5y",
        "colab": {
          "base_uri": "https://localhost:8080/"
        },
        "outputId": "0aa03e6e-04cf-47f4-b357-88d9dd5dedca"
      },
      "source": [
        "#Logistic regression\n",
        "#source: https://scikit-learn.org/stable/modules/generated/sklearn.linear_model.LogisticRegression.html\n",
        "\n",
        "from sklearn.linear_model import LogisticRegression\n",
        "\n",
        "logreg = Pipeline([('vect', CountVectorizer()),\n",
        "                ('tfidf', TfidfTransformer()),\n",
        "                ('clf', LogisticRegression(n_jobs=1, C=1e5)),\n",
        "               ])\n",
        "logreg.fit(X_train, y_train)"
      ],
      "execution_count": 29,
      "outputs": [
        {
          "output_type": "stream",
          "text": [
            "/usr/local/lib/python3.7/dist-packages/sklearn/linear_model/_logistic.py:940: ConvergenceWarning: lbfgs failed to converge (status=1):\n",
            "STOP: TOTAL NO. of ITERATIONS REACHED LIMIT.\n",
            "\n",
            "Increase the number of iterations (max_iter) or scale the data as shown in:\n",
            "    https://scikit-learn.org/stable/modules/preprocessing.html\n",
            "Please also refer to the documentation for alternative solver options:\n",
            "    https://scikit-learn.org/stable/modules/linear_model.html#logistic-regression\n",
            "  extra_warning_msg=_LOGISTIC_SOLVER_CONVERGENCE_MSG)\n"
          ],
          "name": "stderr"
        },
        {
          "output_type": "execute_result",
          "data": {
            "text/plain": [
              "Pipeline(memory=None,\n",
              "         steps=[('vect',\n",
              "                 CountVectorizer(analyzer='word', binary=False,\n",
              "                                 decode_error='strict',\n",
              "                                 dtype=<class 'numpy.int64'>, encoding='utf-8',\n",
              "                                 input='content', lowercase=True, max_df=1.0,\n",
              "                                 max_features=None, min_df=1,\n",
              "                                 ngram_range=(1, 1), preprocessor=None,\n",
              "                                 stop_words=None, strip_accents=None,\n",
              "                                 token_pattern='(?u)\\\\b\\\\w\\\\w+\\\\b',\n",
              "                                 tokenizer=None, vocabulary=None)),\n",
              "                ('tfidf',\n",
              "                 TfidfTransformer(norm='l2', smooth_idf=True,\n",
              "                                  sublinear_tf=False, use_idf=True)),\n",
              "                ('clf',\n",
              "                 LogisticRegression(C=100000.0, class_weight=None, dual=False,\n",
              "                                    fit_intercept=True, intercept_scaling=1,\n",
              "                                    l1_ratio=None, max_iter=100,\n",
              "                                    multi_class='auto', n_jobs=1, penalty='l2',\n",
              "                                    random_state=None, solver='lbfgs',\n",
              "                                    tol=0.0001, verbose=0, warm_start=False))],\n",
              "         verbose=False)"
            ]
          },
          "metadata": {
            "tags": []
          },
          "execution_count": 29
        }
      ]
    },
    {
      "cell_type": "code",
      "metadata": {
        "id": "L7g6gUhyUjBB",
        "colab": {
          "base_uri": "https://localhost:8080/"
        },
        "outputId": "7efc49a3-1b6e-4da4-e4a2-492341e6f227"
      },
      "source": [
        "\n",
        "%%time\n",
        "\n",
        "y_pred = logreg.predict(X_test)\n",
        "\n",
        "print('accuracy %s' % accuracy_score(y_pred, y_test))\n",
        "print(classification_report(y_test, y_pred,target_names=my_tags))"
      ],
      "execution_count": 30,
      "outputs": [
        {
          "output_type": "stream",
          "text": [
            "accuracy 0.845384609449147\n",
            "                  precision    recall  f1-score   support\n",
            "\n",
            " Debt collection       0.76      0.81      0.78      7166\n",
            "     Credit card       0.44      0.03      0.05       286\n",
            " Money transfers       0.21      0.01      0.02       282\n",
            "        Mortgage       0.79      0.80      0.79     12727\n",
            "Credit reporting       0.89      0.91      0.90     63439\n",
            "    Bank account       0.80      0.78      0.79     22635\n",
            "    Vehicle loan       0.79      0.71      0.75      3265\n",
            "    Student loan       0.90      0.90      0.90     10864\n",
            "   Consumer loan       0.64      0.49      0.55      2164\n",
            "    Bank service       0.84      0.80      0.82      3818\n",
            "     Payday loan       0.67      0.61      0.64      2953\n",
            "\n",
            "        accuracy                           0.85    129599\n",
            "       macro avg       0.70      0.62      0.64    129599\n",
            "    weighted avg       0.84      0.85      0.84    129599\n",
            "\n",
            "CPU times: user 16.4 s, sys: 57.9 ms, total: 16.5 s\n",
            "Wall time: 16.6 s\n"
          ],
          "name": "stdout"
        }
      ]
    },
    {
      "cell_type": "code",
      "metadata": {
        "id": "9tZCXuHYU6v0",
        "colab": {
          "base_uri": "https://localhost:8080/"
        },
        "outputId": "622197e1-fad1-4885-bbd7-d2077f30ca14"
      },
      "source": [
        "\n",
        "#Word2vec embedding and Logistic Regression\n",
        "#NOTE - Takes 50 mins to run\n",
        "\n",
        "#This uses pre-trained  \n",
        "#source: https://stackoverflow.com/questions/46433778/import-googlenews-vectors-negative300-bin\n",
        "#source: https://radimrehurek.com/gensim/models/keyedvectors.html\n",
        "\n",
        "%%time\n",
        "!brew install wget\n",
        "\n",
        "!wget -c \"https://s3.amazonaws.com/dl4j-distribution/GoogleNews-vectors-negative300.bin.gz\"\n",
        "from gensim import models\n",
        "\n",
        "\n",
        "\n",
        "wv = models.KeyedVectors.load_word2vec_format(\"GoogleNews-vectors-negative300.bin.gz\", binary=True)\n",
        "wv.init_sims(replace=True)"
      ],
      "execution_count": 25,
      "outputs": [
        {
          "output_type": "stream",
          "text": [
            "/bin/bash: brew: command not found\n",
            "--2021-04-24 02:09:09--  https://s3.amazonaws.com/dl4j-distribution/GoogleNews-vectors-negative300.bin.gz\n",
            "Resolving s3.amazonaws.com (s3.amazonaws.com)... 52.216.77.190\n",
            "Connecting to s3.amazonaws.com (s3.amazonaws.com)|52.216.77.190|:443... connected.\n",
            "HTTP request sent, awaiting response... 416 Requested Range Not Satisfiable\n",
            "\n",
            "    The file is already fully retrieved; nothing to do.\n",
            "\n",
            "CPU times: user 2min 44s, sys: 5.8 s, total: 2min 50s\n",
            "Wall time: 2min 52s\n"
          ],
          "name": "stdout"
        }
      ]
    },
    {
      "cell_type": "code",
      "metadata": {
        "id": "vatrEDLkU62n"
      },
      "source": [
        "\n",
        "#This is to build word vectors for input text in order to average the value of all word vectors in the posts\n",
        "#source: https://towardsdatascience.com/3-basic-approaches-in-bag-of-words-which-are-better-than-word-embeddings-c2cbc7398016\n",
        "#source: https://www.guru99.com/word-embedding-word2vec.html\n",
        "def word_averaging(wv, words):\n",
        "    all_words, mean = set(), []\n",
        "    \n",
        "    for word in words:\n",
        "        if isinstance(word, np.ndarray):\n",
        "            mean.append(word)\n",
        "        elif word in wv.vocab:\n",
        "            mean.append(wv.syn0norm[wv.vocab[word].index])\n",
        "            all_words.add(wv.vocab[word].index)\n",
        "\n",
        "    if not mean:\n",
        "        logging.warning(\"cannot compute similarity with no input %s\", words)\n",
        "        # FIXME: remove these examples in pre-processing\n",
        "        return np.zeros(wv.vector_size,)\n",
        "\n",
        "    mean = gensim.matutils.unitvec(np.array(mean).mean(axis=0)).astype(np.float32)\n",
        "    return mean\n",
        "\n",
        "def  word_averaging_list(wv, text_list):\n",
        "    return np.vstack([word_averaging(wv, posts) for posts in text_list ])"
      ],
      "execution_count": 27,
      "outputs": []
    },
    {
      "cell_type": "code",
      "metadata": {
        "id": "LexdKFzDU66j"
      },
      "source": [
        "def w2v_tokenize_text(text):\n",
        "    tokens = []\n",
        "    for sent in nltk.sent_tokenize(text, language='english'):\n",
        "        for word in nltk.word_tokenize(sent, language='english'):\n",
        "            if len(word) < 2:\n",
        "                continue\n",
        "            tokens.append(word)\n",
        "    return tokens"
      ],
      "execution_count": 28,
      "outputs": []
    },
    {
      "cell_type": "code",
      "metadata": {
        "id": "GR-btj_uU69Z",
        "colab": {
          "base_uri": "https://localhost:8080/"
        },
        "outputId": "7315b602-0a1b-4ad0-c27f-0d53df93d8df"
      },
      "source": [
        "#This tokenizer divides a text into a list of sentences by building a model for abbreviation words, collocations, and words that start sentences\n",
        "\n",
        "train, test = train_test_split(df, test_size=0.3, random_state = 42)\n",
        "nltk.download('punkt')\n",
        "test_tokenized = test.apply(lambda r: w2v_tokenize_text(r['posts']), axis=1).values\n",
        "train_tokenized = train.apply(lambda r: w2v_tokenize_text(r['posts']), axis=1).values"
      ],
      "execution_count": 29,
      "outputs": [
        {
          "output_type": "stream",
          "text": [
            "[nltk_data] Downloading package punkt to /root/nltk_data...\n",
            "[nltk_data]   Package punkt is already up-to-date!\n"
          ],
          "name": "stdout"
        }
      ]
    },
    {
      "cell_type": "code",
      "metadata": {
        "id": "QfB1lgqKVNYS",
        "colab": {
          "base_uri": "https://localhost:8080/"
        },
        "outputId": "d74409c6-0b4b-4f15-bdc3-8fec2b2847d5"
      },
      "source": [
        "X_train_word_average = word_averaging_list(wv,train_tokenized)\n",
        "X_test_word_average = word_averaging_list(wv,test_tokenized)"
      ],
      "execution_count": 30,
      "outputs": [
        {
          "output_type": "stream",
          "text": [
            "/usr/local/lib/python3.7/dist-packages/ipykernel_launcher.py:8: DeprecationWarning: Call to deprecated `syn0norm` (Attribute will be removed in 4.0.0, use self.wv.vectors_norm instead).\n",
            "  \n",
            "WARNING:root:cannot compute similarity with no input ['ihavebeengoingthroughtheloanmodification', 'partialclaimsprocessfor3yearsnow', 'andusbankhomemortgage', '4andihadalreadyreachedanagreement', 'ivedonealltheyveaskedmetodoandbeyondiwassentthesameagreement3', 'ifnot4timesalongwithmyagreedpaymentofxxxxeachtimeandallmonthsinbetweenandnowusbankhomemortgage', '4saysmymortgage', '4ismoreandtheysentmethewrongpaperwork', 'ireceivedmorepaperworkinthemailanditsthesamepaperworkifilledout', 'morethenonce', '3yearsagowhenistartedthewholeloanmodificationpartialclaimsprocess', 'itlookslikethebankwantsmetostartalloverwevealreadyreachedanagreement', 'xxxxmonthlyandhudtookovermydeliquentcyamount', 'usbankhomemortgage', '4isbreakingtheagreementpleasereviewattacheddocuments']\n",
            "WARNING:root:cannot compute similarity with no input []\n"
          ],
          "name": "stderr"
        }
      ]
    },
    {
      "cell_type": "code",
      "metadata": {
        "id": "_Zl0U47RVNa3"
      },
      "source": [
        "\n",
        "from sklearn.linear_model import LogisticRegression\n",
        "logreg = LogisticRegression(n_jobs=1, C=1e5, max_iter= 10000)\n",
        "logreg = logreg.fit(X_train_word_average, train['tags'])\n",
        "y_pred = logreg.predict(X_test_word_average)"
      ],
      "execution_count": 31,
      "outputs": []
    },
    {
      "cell_type": "code",
      "metadata": {
        "id": "RijwE0PDVNdW",
        "colab": {
          "base_uri": "https://localhost:8080/"
        },
        "outputId": "5a7f7d75-42c5-4b5a-ee87-792c60aac6ea"
      },
      "source": [
        "from sklearn.metrics import classification_report\n",
        "print('accuracy %s' % accuracy_score(y_pred, test.tags))\n",
        "print(classification_report(test.tags, y_pred,target_names=my_tags))"
      ],
      "execution_count": 32,
      "outputs": [
        {
          "output_type": "stream",
          "text": [
            "accuracy 0.797205225348961\n",
            "                  precision    recall  f1-score   support\n",
            "\n",
            " Debt collection       0.71      0.74      0.72      7166\n",
            "     Credit card       0.12      0.01      0.01       286\n",
            " Money transfers       0.18      0.01      0.01       282\n",
            "        Mortgage       0.73      0.72      0.73     12727\n",
            "Credit reporting       0.84      0.90      0.87     63439\n",
            "    Bank account       0.76      0.69      0.72     22635\n",
            "    Vehicle loan       0.72      0.64      0.68      3265\n",
            "    Student loan       0.84      0.87      0.85     10864\n",
            "   Consumer loan       0.56      0.32      0.41      2164\n",
            "    Bank service       0.75      0.69      0.72      3818\n",
            "     Payday loan       0.63      0.49      0.55      2953\n",
            "\n",
            "        accuracy                           0.80    129599\n",
            "       macro avg       0.62      0.55      0.57    129599\n",
            "    weighted avg       0.79      0.80      0.79    129599\n",
            "\n"
          ],
          "name": "stdout"
        }
      ]
    },
    {
      "cell_type": "code",
      "metadata": {
        "id": "GOU1Thu8VNfc",
        "colab": {
          "base_uri": "https://localhost:8080/"
        },
        "outputId": "1f53e58c-e1ce-4e71-cd60-c17ffbd15e9b"
      },
      "source": [
        "#Doc2vec and Logistic Regression¶\n",
        "#Doc2vec, taking the linear combination of every term in the document creates a random walk with bias process in the word2vec space.\n",
        "\n",
        "from sklearn.linear_model import LogisticRegression\n",
        "from tqdm import tqdm\n",
        "tqdm.pandas(desc=\"progress-bar\")\n",
        "from gensim.models import Doc2Vec\n",
        "from sklearn import utils\n",
        "import gensim\n",
        "from gensim.models.doc2vec import TaggedDocument\n",
        "from gensim.models import doc2vec\n",
        "import re\n",
        "from itertools import islice"
      ],
      "execution_count": 12,
      "outputs": [
        {
          "output_type": "stream",
          "text": [
            "/usr/local/lib/python3.7/dist-packages/tqdm/std.py:658: FutureWarning: The Panel class is removed from pandas. Accessing it from the top-level namespace will also be removed in the next version\n",
            "  from pandas import Panel\n"
          ],
          "name": "stderr"
        }
      ]
    },
    {
      "cell_type": "code",
      "metadata": {
        "id": "NeqwGqXCVNkt"
      },
      "source": [
        "# Gensims implementation requires each document/paragraph to have a label associated with it which TaggedDocument does\n",
        "# source: https://www.programcreek.com/python/example/103015/gensim.models.doc2vec.LabeledSentence\n",
        "def label_sentences(corpus, label_type):\n",
        "    \"\"\"\n",
        "    Gensim's Doc2Vec implementation requires each document/paragraph to have a label associated with it.\n",
        "    We do this by using the TaggedDocument method. The format will be \"TRAIN_i\" or \"TEST_i\" where \"i\" is\n",
        "    a dummy index of the posts.\n",
        "    \"\"\"\n",
        "    labeled = []\n",
        "    for i, v in enumerate(corpus):\n",
        "        label = label_type + '_' + str(i)\n",
        "        labeled.append(doc2vec.TaggedDocument(v.split(), [label]))\n",
        "    return labeled"
      ],
      "execution_count": 13,
      "outputs": []
    },
    {
      "cell_type": "code",
      "metadata": {
        "id": "nA04KfVu5vAS"
      },
      "source": [
        "\n",
        "X_train, X_test, y_train, y_test = train_test_split(df.posts, df.tags, random_state=0, test_size=0.3)\n",
        "X_train = label_sentences(X_train, 'Train')\n",
        "X_test = label_sentences(X_test, 'Test')\n",
        "all_data = X_train + X_test"
      ],
      "execution_count": 14,
      "outputs": []
    },
    {
      "cell_type": "code",
      "metadata": {
        "id": "1oor5AoKU7Ao",
        "colab": {
          "base_uri": "https://localhost:8080/"
        },
        "outputId": "897b47fd-3a1e-4508-c1e0-716029dc235c"
      },
      "source": [
        "all_data[:2]"
      ],
      "execution_count": 15,
      "outputs": [
        {
          "output_type": "execute_result",
          "data": {
            "text/plain": [
              "[TaggedDocument(words=['applied', 'home', 'retention', 'assistance', 'xx', 'xx', 'xxxx', 'thought', 'things', 'going', 'fairly', 'well', 'asked', 'divorce', 'decree', 'xx', 'xx', 'xxxx', 'even', 'though', 'ive', 'never', 'divorced', 'bizarre', 'talking', 'understood', 'confusion', 'snag', 'thought', 'xx', 'xx', 'xxxx', 'told', 'file', 'denied', 'income', '290000', 'accurate', 'portrait', 'financial', 'situation', 'wife', 'yet', 'loan', 'modification', 'goes', 'also', 'contributing', 'listed', 'contributor', 'application', 'wells', 'fargo', 'stating', 'allow', 'use', 'contributors', 'according', 'wells', 'fargo', 'wife', 'bound', 'soul', 'eternity', 'able', 'claim', 'using', 'income', 'help', 'maintain', 'household', 'keep', 'home', 'posterity', 'read', 'xxxx', 'xxxx', 'guidelines', 'see', 'nothing', 'specifically', 'excludes', 'using', 'wife', 'contributor', 'income', 'simply', 'vanish', 'thin', 'air', 'goes', 'toward', 'maintain', 'livelihood', 'family', 'course', 'considered', 'evaluating', 'us', 'modification', 'review'], tags=['Train_0']),\n",
              " TaggedDocument(words=['collection', 'account', 'placed', 'xxxx', 'credit', 'report', 'xx', 'xx', '19', 'balance', '180000', 'xxxx', 'xxxx', 'xxxx', 'original', 'creditor', 'listed', 'comenity', 'capital', 'bank', 'never', 'heard', 'listed', 'account', 'opened', 'xx', 'xx', '2019', 'opened', 'applied', 'credit', 'accounts', 'past', 'year', 'account', 'owe', 'company', 'money', 'never', 'received', 'written', 'verbal', 'notice', 'account', 'either', 'prior', 'placed', 'collection', 'therefore', 'first', 'opportunity', 'dispute', 'part', 'xxxx', 'data', 'breach', 'well', 'xxxx', 'xxxx', 'xxxx', 'xxxx', 'data', 'breach', 'disputed', 'directly', 'xxxx', 'well', 'attempted', 'dispute', 'xxxx', 'xxxx', 'xxxx'], tags=['Train_1'])]"
            ]
          },
          "metadata": {
            "tags": []
          },
          "execution_count": 15
        }
      ]
    },
    {
      "cell_type": "code",
      "metadata": {
        "id": "_5VPQVAsVrKO",
        "colab": {
          "base_uri": "https://localhost:8080/"
        },
        "outputId": "4586e175-5d4f-4b31-abd2-de7d748a003d"
      },
      "source": [
        "model_dbow = Doc2Vec(dm=0, vector_size=300, negative=5, min_count=1, alpha=0.065, min_alpha=0.065)\n",
        "model_dbow.build_vocab([x for x in tqdm(all_data)])"
      ],
      "execution_count": 16,
      "outputs": [
        {
          "output_type": "stream",
          "text": [
            "100%|██████████| 431995/431995 [00:00<00:00, 2673226.63it/s]\n"
          ],
          "name": "stderr"
        }
      ]
    },
    {
      "cell_type": "code",
      "metadata": {
        "id": "jT8gkVrcVrMl",
        "colab": {
          "base_uri": "https://localhost:8080/"
        },
        "outputId": "e2480894-a5f4-4b06-e562-46885fdb0ad5"
      },
      "source": [
        "for epoch in range(2):\n",
        "    model_dbow.train(utils.shuffle([x for x in tqdm(all_data)]), total_examples=len(all_data), epochs=1)\n",
        "    model_dbow.alpha -= 0.002\n",
        "    model_dbow.min_alpha = model_dbow.alpha"
      ],
      "execution_count": 17,
      "outputs": [
        {
          "output_type": "stream",
          "text": [
            "100%|██████████| 431995/431995 [00:00<00:00, 2621519.65it/s]\n",
            "100%|██████████| 431995/431995 [00:00<00:00, 2387193.89it/s]\n"
          ],
          "name": "stderr"
        }
      ]
    },
    {
      "cell_type": "code",
      "metadata": {
        "id": "ZPObOXFkVrPG"
      },
      "source": [
        "def get_vectors(model, corpus_size, vectors_size, vectors_type):\n",
        "    \"\"\"\n",
        "    Get vectors from trained doc2vec model\n",
        "    :param doc2vec_model: Trained Doc2Vec model\n",
        "    :param corpus_size: Size of the data\n",
        "    :param vectors_size: Size of the embedding vectors\n",
        "    :param vectors_type: Training or Testing vectors\n",
        "    :return: list of vectors\n",
        "    \"\"\"\n",
        "    vectors = np.zeros((corpus_size, vectors_size))\n",
        "    for i in range(0, corpus_size):\n",
        "        prefix = vectors_type + '_' + str(i)\n",
        "        vectors[i] = model.docvecs[prefix]\n",
        "    return vectors"
      ],
      "execution_count": 18,
      "outputs": []
    },
    {
      "cell_type": "code",
      "metadata": {
        "id": "2CnRQcfxVyW6"
      },
      "source": [
        "train_vectors_dbow = get_vectors(model_dbow, len(X_train), 300, 'Train')\n",
        "test_vectors_dbow = get_vectors(model_dbow, len(X_test), 300, 'Test')"
      ],
      "execution_count": 19,
      "outputs": []
    },
    {
      "cell_type": "code",
      "metadata": {
        "id": "DGvY_zaeVyaC",
        "colab": {
          "base_uri": "https://localhost:8080/"
        },
        "outputId": "65240c1a-5bcb-4243-82fc-46b10c17beb9"
      },
      "source": [
        "\n",
        "logreg = LogisticRegression(n_jobs=1, C=1e5, max_iter=10000)\n",
        "logreg.fit(train_vectors_dbow, y_train)"
      ],
      "execution_count": 20,
      "outputs": [
        {
          "output_type": "execute_result",
          "data": {
            "text/plain": [
              "LogisticRegression(C=100000.0, class_weight=None, dual=False,\n",
              "                   fit_intercept=True, intercept_scaling=1, l1_ratio=None,\n",
              "                   max_iter=10000, multi_class='auto', n_jobs=1, penalty='l2',\n",
              "                   random_state=None, solver='lbfgs', tol=0.0001, verbose=0,\n",
              "                   warm_start=False)"
            ]
          },
          "metadata": {
            "tags": []
          },
          "execution_count": 20
        }
      ]
    },
    {
      "cell_type": "code",
      "metadata": {
        "id": "iGdlmawDVrRe"
      },
      "source": [
        "logreg = logreg.fit(train_vectors_dbow, y_train)\n",
        "y_pred = logreg.predict(test_vectors_dbow)"
      ],
      "execution_count": 21,
      "outputs": []
    },
    {
      "cell_type": "code",
      "metadata": {
        "id": "YAeuhs6FVrT3",
        "colab": {
          "base_uri": "https://localhost:8080/"
        },
        "outputId": "a117c778-8103-4883-d849-4aaef05cf51b"
      },
      "source": [
        "print('accuracy %s' % accuracy_score(y_pred, y_test))\n",
        "print(classification_report(y_test, y_pred,target_names=my_tags))"
      ],
      "execution_count": 22,
      "outputs": [
        {
          "output_type": "stream",
          "text": [
            "accuracy 0.7789566277517573\n",
            "                  precision    recall  f1-score   support\n",
            "\n",
            " Debt collection       0.69      0.70      0.69      7112\n",
            "     Credit card       0.24      0.02      0.04       292\n",
            " Money transfers       0.30      0.03      0.05       293\n",
            "        Mortgage       0.70      0.66      0.68     12616\n",
            "Credit reporting       0.82      0.89      0.85     63162\n",
            "    Bank account       0.74      0.66      0.70     22793\n",
            "    Vehicle loan       0.70      0.61      0.65      3356\n",
            "    Student loan       0.83      0.84      0.84     11034\n",
            "   Consumer loan       0.56      0.29      0.38      2158\n",
            "    Bank service       0.78      0.71      0.74      3850\n",
            "     Payday loan       0.61      0.50      0.55      2933\n",
            "\n",
            "        accuracy                           0.78    129599\n",
            "       macro avg       0.63      0.54      0.56    129599\n",
            "    weighted avg       0.77      0.78      0.77    129599\n",
            "\n"
          ],
          "name": "stdout"
        }
      ]
    }
  ]
}